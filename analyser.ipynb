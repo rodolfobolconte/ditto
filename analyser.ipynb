{
 "cells": [
  {
   "cell_type": "code",
   "execution_count": 51,
   "id": "27724519",
   "metadata": {},
   "outputs": [],
   "source": [
    "import pandas as pd\n",
    "import numpy as np\n",
    "import matplotlib.pyplot as plt\n",
    "from sklearn.metrics import classification_report"
   ]
  },
  {
   "cell_type": "code",
   "execution_count": 52,
   "id": "36fd2cd0",
   "metadata": {},
   "outputs": [
    {
     "data": {
      "text/html": [
       "<div>\n",
       "<style scoped>\n",
       "    .dataframe tbody tr th:only-of-type {\n",
       "        vertical-align: middle;\n",
       "    }\n",
       "\n",
       "    .dataframe tbody tr th {\n",
       "        vertical-align: top;\n",
       "    }\n",
       "\n",
       "    .dataframe thead th {\n",
       "        text-align: right;\n",
       "    }\n",
       "</style>\n",
       "<table border=\"1\" class=\"dataframe\">\n",
       "  <thead>\n",
       "    <tr style=\"text-align: right;\">\n",
       "      <th></th>\n",
       "      <th>left</th>\n",
       "      <th>right</th>\n",
       "      <th>label</th>\n",
       "      <th>match</th>\n",
       "      <th>match_confidence</th>\n",
       "    </tr>\n",
       "  </thead>\n",
       "  <tbody>\n",
       "    <tr>\n",
       "      <th>0</th>\n",
       "      <td>COL name VAL sony pink cyber-shot 7.2 megapixe...</td>\n",
       "      <td>COL name VAL olympus fe-360 digital camera pin...</td>\n",
       "      <td>0</td>\n",
       "      <td>1</td>\n",
       "      <td>0.406435</td>\n",
       "    </tr>\n",
       "  </tbody>\n",
       "</table>\n",
       "</div>"
      ],
      "text/plain": [
       "                                                left  \\\n",
       "0  COL name VAL sony pink cyber-shot 7.2 megapixe...   \n",
       "\n",
       "                                               right  label  match  \\\n",
       "0  COL name VAL olympus fe-360 digital camera pin...      0      1   \n",
       "\n",
       "   match_confidence  \n",
       "0          0.406435  "
      ]
     },
     "execution_count": 52,
     "metadata": {},
     "output_type": "execute_result"
    }
   ],
   "source": [
    "df = pd.read_json('output/train_output.jsonl', lines=True)\n",
    "df.head(1)"
   ]
  },
  {
   "cell_type": "code",
   "execution_count": 53,
   "id": "056ff0dd",
   "metadata": {},
   "outputs": [
    {
     "name": "stdout",
     "output_type": "stream",
     "text": [
      "              precision    recall  f1-score   support\n",
      "\n",
      "           0       0.92      0.77      0.84      1710\n",
      "           1       0.19      0.45      0.27       206\n",
      "\n",
      "    accuracy                           0.73      1916\n",
      "   macro avg       0.56      0.61      0.55      1916\n",
      "weighted avg       0.84      0.73      0.78      1916\n",
      "\n"
     ]
    }
   ],
   "source": [
    "print(classification_report(df['label'], df['match'], zero_division=0))"
   ]
  },
  {
   "cell_type": "code",
   "execution_count": 57,
   "id": "52fd8765",
   "metadata": {},
   "outputs": [
    {
     "name": "stdout",
     "output_type": "stream",
     "text": [
      "Samples < 0% confidence: 0\n",
      "Samples < 5% confidence: 27\n",
      "Samples < 10% confidence: 40\n",
      "Samples < 15% confidence: 64\n",
      "Samples < 20% confidence: 100\n",
      "Samples < 25% confidence: 141\n",
      "Samples < 30% confidence: 197\n",
      "Samples < 35% confidence: 310\n",
      "Samples < 40% confidence: 1427\n",
      "Samples < 45% confidence: 1845\n",
      "Samples < 50% confidence: 1904\n",
      "Samples < 55% confidence: 1913\n",
      "Samples < 60% confidence: 1915\n",
      "Samples < 65% confidence: 1916\n",
      "Samples < 70% confidence: 1916\n",
      "Samples < 75% confidence: 1916\n",
      "Samples < 80% confidence: 1916\n",
      "Samples < 85% confidence: 1916\n",
      "Samples < 90% confidence: 1916\n",
      "Samples < 95% confidence: 1916\n"
     ]
    }
   ],
   "source": [
    "for level in range(0, 100, 5):\n",
    "    print(f'Samples < {level}% confidence:', (df['match_confidence'] < level/100).sum())"
   ]
  },
  {
   "cell_type": "code",
   "execution_count": 55,
   "id": "deedd059",
   "metadata": {},
   "outputs": [
    {
     "data": {
      "image/png": "[encoded data removed]",
      "text/plain": [
       "<Figure size 1000x400 with 1 Axes>"
      ]
     },
     "metadata": {},
     "output_type": "display_data"
    }
   ],
   "source": [
    "fig, ax = plt.subplots(figsize=(10, 4))\n",
    "n, bins, patches = ax.hist(df['match_confidence'], bins=np.arange(0, 1.05, 0.05), edgecolor='black')\n",
    "\n",
    "# Adicionando rótulos de frequência em cada barra\n",
    "for count, patch in zip(n, patches):\n",
    "    # Pega o centro da barra\n",
    "    x = patch.get_x() + patch.get_width() / 2\n",
    "    y = patch.get_height()\n",
    "    ax.text(x, y + 0.5, int(count), ha='center', va='bottom', fontsize=9)\n",
    "\n",
    "# Personalizando o gráfico\n",
    "ax.set_title('Histograma com Frequência por Faixa', fontsize=14)\n",
    "ax.set_xlabel('Faixas de Valor', fontsize=12)\n",
    "ax.set_ylabel('Frequência', fontsize=12)\n",
    "plt.tight_layout()\n",
    "plt.show()"
   ]
  },
  {
   "cell_type": "code",
   "execution_count": 56,
   "id": "b0b6208b",
   "metadata": {},
   "outputs": [],
   "source": [
    "confidence = 95\n",
    "df[df['match_confidence'] >= confidence/100].to_json(f'output/mte{confidence}.jsonl', orient='records', lines=True)\n",
    "df[df['match_confidence'] < confidence/100].to_json(f'output/lt{confidence}.jsonl', orient='records', lines=True)"
   ]
  }
 ],
 "metadata": {
  "kernelspec": {
   "display_name": "ditto",
   "language": "python",
   "name": "python3"
  },
  "language_info": {
   "codemirror_mode": {
    "name": "ipython",
    "version": 3
   },
   "file_extension": ".py",
   "mimetype": "text/x-python",
   "name": "python",
   "nbconvert_exporter": "python",
   "pygments_lexer": "ipython3",
   "version": "3.7.12"
  }
 },
 "nbformat": 4,
 "nbformat_minor": 5
}
